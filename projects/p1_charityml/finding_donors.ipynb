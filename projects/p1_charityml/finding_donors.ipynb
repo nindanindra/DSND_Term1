{
 "cells": [
  {
   "cell_type": "markdown",
   "metadata": {},
   "source": [
    "# Data Scientist Nanodegree\n",
    "## Supervised Learning\n",
    "## Project: Finding Donors for *CharityML*"
   ]
  },
  {
   "cell_type": "markdown",
   "metadata": {},
   "source": [
    "Welcome to the first project of the Data Scientist Nanodegree! In this notebook, some template code has already been provided for you, and it will be your job to implement the additional functionality necessary to successfully complete this project. Sections that begin with **'Implementation'** in the header indicate that the following block of code will require additional functionality which you must provide. Instructions will be provided for each section and the specifics of the implementation are marked in the code block with a `'TODO'` statement. Please be sure to read the instructions carefully!\n",
    "\n",
    "In addition to implementing code, there will be questions that you must answer which relate to the project and your implementation. Each section where you will answer a question is preceded by a **'Question X'** header. Carefully read each question and provide thorough answers in the following text boxes that begin with **'Answer:'**. Your project submission will be evaluated based on your answers to each of the questions and the implementation you provide.  \n",
    "\n",
    ">**Note:** Please specify WHICH VERSION OF PYTHON you are using when submitting this notebook. Code and Markdown cells can be executed using the **Shift + Enter** keyboard shortcut. In addition, Markdown cells can be edited by typically double-clicking the cell to enter edit mode."
   ]
  },
  {
   "cell_type": "markdown",
   "metadata": {},
   "source": [
    "## Getting Started\n",
    "\n",
    "In this project, you will employ several supervised algorithms of your choice to accurately model individuals' income using data collected from the 1994 U.S. Census. You will then choose the best candidate algorithm from preliminary results and further optimize this algorithm to best model the data. Your goal with this implementation is to construct a model that accurately predicts whether an individual makes more than $50,000. This sort of task can arise in a non-profit setting, where organizations survive on donations.  Understanding an individual's income can help a non-profit better understand how large of a donation to request, or whether or not they should reach out to begin with.  While it can be difficult to determine an individual's general income bracket directly from public sources, we can (as we will see) infer this value from other publically available features. \n",
    "\n",
    "The dataset for this project originates from the [UCI Machine Learning Repository](https://archive.ics.uci.edu/ml/datasets/Census+Income). The datset was donated by Ron Kohavi and Barry Becker, after being published in the article _\"Scaling Up the Accuracy of Naive-Bayes Classifiers: A Decision-Tree Hybrid\"_. You can find the article by Ron Kohavi [online](https://www.aaai.org/Papers/KDD/1996/KDD96-033.pdf). The data we investigate here consists of small changes to the original dataset, such as removing the `'fnlwgt'` feature and records with missing or ill-formatted entries."
   ]
  },
  {
   "cell_type": "markdown",
   "metadata": {},
   "source": [
    "----\n",
    "## Exploring the Data\n",
    "Run the code cell below to load necessary Python libraries and load the census data. Note that the last column from this dataset, `'income'`, will be our target label (whether an individual makes more than, or at most, $50,000 annually). All other columns are features about each individual in the census database."
   ]
  },
  {
   "cell_type": "code",
<<<<<<< HEAD
   "execution_count": 4,
=======
   "execution_count": 2,
>>>>>>> a2ed83f702ce0f2c393189113b8d9a9c6275f240
   "metadata": {},
   "outputs": [
    {
     "data": {
      "text/html": [
       "<div>\n",
       "<style>\n",
       "    .dataframe thead tr:only-child th {\n",
       "        text-align: right;\n",
       "    }\n",
       "\n",
       "    .dataframe thead th {\n",
       "        text-align: left;\n",
       "    }\n",
       "\n",
       "    .dataframe tbody tr th {\n",
       "        vertical-align: top;\n",
       "    }\n",
       "</style>\n",
       "<table border=\"1\" class=\"dataframe\">\n",
       "  <thead>\n",
       "    <tr style=\"text-align: right;\">\n",
       "      <th></th>\n",
       "      <th>age</th>\n",
       "      <th>workclass</th>\n",
       "      <th>education_level</th>\n",
       "      <th>education-num</th>\n",
       "      <th>marital-status</th>\n",
       "      <th>occupation</th>\n",
       "      <th>relationship</th>\n",
       "      <th>race</th>\n",
       "      <th>sex</th>\n",
       "      <th>capital-gain</th>\n",
       "      <th>capital-loss</th>\n",
       "      <th>hours-per-week</th>\n",
       "      <th>native-country</th>\n",
       "      <th>income</th>\n",
       "    </tr>\n",
       "  </thead>\n",
       "  <tbody>\n",
       "    <tr>\n",
       "      <th>0</th>\n",
       "      <td>39</td>\n",
       "      <td>State-gov</td>\n",
       "      <td>Bachelors</td>\n",
       "      <td>13.0</td>\n",
       "      <td>Never-married</td>\n",
       "      <td>Adm-clerical</td>\n",
       "      <td>Not-in-family</td>\n",
       "      <td>White</td>\n",
       "      <td>Male</td>\n",
       "      <td>2174.0</td>\n",
       "      <td>0.0</td>\n",
       "      <td>40.0</td>\n",
       "      <td>United-States</td>\n",
       "      <td>&lt;=50K</td>\n",
       "    </tr>\n",
       "    <tr>\n",
       "      <th>1</th>\n",
       "      <td>50</td>\n",
       "      <td>Self-emp-not-inc</td>\n",
       "      <td>Bachelors</td>\n",
       "      <td>13.0</td>\n",
       "      <td>Married-civ-spouse</td>\n",
       "      <td>Exec-managerial</td>\n",
       "      <td>Husband</td>\n",
       "      <td>White</td>\n",
       "      <td>Male</td>\n",
       "      <td>0.0</td>\n",
       "      <td>0.0</td>\n",
       "      <td>13.0</td>\n",
       "      <td>United-States</td>\n",
       "      <td>&lt;=50K</td>\n",
       "    </tr>\n",
       "    <tr>\n",
       "      <th>2</th>\n",
       "      <td>38</td>\n",
       "      <td>Private</td>\n",
       "      <td>HS-grad</td>\n",
       "      <td>9.0</td>\n",
       "      <td>Divorced</td>\n",
       "      <td>Handlers-cleaners</td>\n",
       "      <td>Not-in-family</td>\n",
       "      <td>White</td>\n",
       "      <td>Male</td>\n",
       "      <td>0.0</td>\n",
       "      <td>0.0</td>\n",
       "      <td>40.0</td>\n",
       "      <td>United-States</td>\n",
       "      <td>&lt;=50K</td>\n",
       "    </tr>\n",
       "    <tr>\n",
       "      <th>3</th>\n",
       "      <td>53</td>\n",
       "      <td>Private</td>\n",
       "      <td>11th</td>\n",
       "      <td>7.0</td>\n",
       "      <td>Married-civ-spouse</td>\n",
       "      <td>Handlers-cleaners</td>\n",
       "      <td>Husband</td>\n",
       "      <td>Black</td>\n",
       "      <td>Male</td>\n",
       "      <td>0.0</td>\n",
       "      <td>0.0</td>\n",
       "      <td>40.0</td>\n",
       "      <td>United-States</td>\n",
       "      <td>&lt;=50K</td>\n",
       "    </tr>\n",
       "    <tr>\n",
       "      <th>4</th>\n",
       "      <td>28</td>\n",
       "      <td>Private</td>\n",
       "      <td>Bachelors</td>\n",
       "      <td>13.0</td>\n",
       "      <td>Married-civ-spouse</td>\n",
       "      <td>Prof-specialty</td>\n",
       "      <td>Wife</td>\n",
       "      <td>Black</td>\n",
       "      <td>Female</td>\n",
       "      <td>0.0</td>\n",
       "      <td>0.0</td>\n",
       "      <td>40.0</td>\n",
       "      <td>Cuba</td>\n",
       "      <td>&lt;=50K</td>\n",
       "    </tr>\n",
       "  </tbody>\n",
       "</table>\n",
       "</div>"
      ],
      "text/plain": [
       "   age          workclass education_level  education-num       marital-status  \\\n",
       "0   39          State-gov       Bachelors           13.0        Never-married   \n",
       "1   50   Self-emp-not-inc       Bachelors           13.0   Married-civ-spouse   \n",
       "2   38            Private         HS-grad            9.0             Divorced   \n",
       "3   53            Private            11th            7.0   Married-civ-spouse   \n",
       "4   28            Private       Bachelors           13.0   Married-civ-spouse   \n",
       "\n",
       "           occupation    relationship    race      sex  capital-gain  \\\n",
       "0        Adm-clerical   Not-in-family   White     Male        2174.0   \n",
       "1     Exec-managerial         Husband   White     Male           0.0   \n",
       "2   Handlers-cleaners   Not-in-family   White     Male           0.0   \n",
       "3   Handlers-cleaners         Husband   Black     Male           0.0   \n",
       "4      Prof-specialty            Wife   Black   Female           0.0   \n",
       "\n",
       "   capital-loss  hours-per-week  native-country income  \n",
       "0           0.0            40.0   United-States  <=50K  \n",
       "1           0.0            13.0   United-States  <=50K  \n",
       "2           0.0            40.0   United-States  <=50K  \n",
       "3           0.0            40.0   United-States  <=50K  \n",
       "4           0.0            40.0            Cuba  <=50K  "
      ]
     },
     "metadata": {},
     "output_type": "display_data"
    }
   ],
   "source": [
    "# Import libraries necessary for this project\n",
    "import numpy as np\n",
    "import pandas as pd\n",
    "from time import time\n",
    "from IPython.display import display # Allows the use of display() for DataFrames\n",
    "\n",
    "# Import supplementary visualization code visuals.py\n",
    "import visuals as vs\n",
    "\n",
    "# Pretty display for notebooks\n",
    "%matplotlib inline\n",
    "\n",
    "# Load the Census dataset\n",
    "data = pd.read_csv(\"census.csv\")\n",
    "\n",
    "# Success - Display the first record\n",
    "display(data.head(n=5))"
   ]
  },
  {
   "cell_type": "markdown",
   "metadata": {},
   "source": [
    "### Implementation: Data Exploration\n",
    "A cursory investigation of the dataset will determine how many individuals fit into either group, and will tell us about the percentage of these individuals making more than \\$50,000. In the code cell below, you will need to compute the following:\n",
    "- The total number of records, `'n_records'`\n",
    "- The number of individuals making more than \\$50,000 annually, `'n_greater_50k'`.\n",
    "- The number of individuals making at most \\$50,000 annually, `'n_at_most_50k'`.\n",
    "- The percentage of individuals making more than \\$50,000 annually, `'greater_percent'`.\n",
    "\n",
    "** HINT: ** You may need to look at the table above to understand how the `'income'` entries are formatted. "
   ]
  },
  {
   "cell_type": "code",
<<<<<<< HEAD
   "execution_count": 5,
=======
   "execution_count": 4,
>>>>>>> a2ed83f702ce0f2c393189113b8d9a9c6275f240
   "metadata": {},
   "outputs": [
    {
     "name": "stdout",
     "output_type": "stream",
     "text": [
      "Total number of records: 45222\n",
      "Individuals making more than $50,000: 11208\n",
      "Individuals making at most $50,000: 34014\n",
      "Percentage of individuals making more than $50,000: 24.78439697492371%\n"
     ]
    }
   ],
   "source": [
    "# TODO: Total number of records\n",
    "n_records = data.shape[0]\n",
    "\n",
    "# TODO: Number of records where individual's income is more than $50,000\n",
    "n_greater_50k = len(data[data['income']=='>50K'])\n",
    "\n",
    "# TODO: Number of records where individual's income is at most $50,000\n",
    "n_at_most_50k = len(data[data['income']=='<=50K'])\n",
    "\n",
    "# TODO: Percentage of individuals whose income is more than $50,000\n",
    "greater_percent = n_greater_50k/n_records*100\n",
    "\n",
    "# Print the results\n",
    "print(\"Total number of records: {}\".format(n_records))\n",
    "print(\"Individuals making more than $50,000: {}\".format(n_greater_50k))\n",
    "print(\"Individuals making at most $50,000: {}\".format(n_at_most_50k))\n",
    "print(\"Percentage of individuals making more than $50,000: {}%\".format(greater_percent))"
   ]
  },
  {
   "cell_type": "code",
<<<<<<< HEAD
   "execution_count": 6,
   "metadata": {},
   "outputs": [
    {
     "name": "stdout",
     "output_type": "stream",
     "text": [
      "                age  education-num  capital-gain  capital-loss  hours-per-week\n",
      "count  45222.000000   45222.000000  45222.000000  45222.000000    45222.000000\n",
      "mean      38.547941      10.118460   1101.430344     88.595418       40.938017\n",
      "std       13.217870       2.552881   7506.430084    404.956092       12.007508\n",
      "min       17.000000       1.000000      0.000000      0.000000        1.000000\n",
      "25%       28.000000       9.000000      0.000000      0.000000       40.000000\n",
      "50%       37.000000      10.000000      0.000000      0.000000       40.000000\n",
      "75%       47.000000      13.000000      0.000000      0.000000       45.000000\n",
      "max       90.000000      16.000000  99999.000000   4356.000000       99.000000\n",
      "       workclass education_level       marital-status     occupation  \\\n",
      "count      45222           45222                45222          45222   \n",
      "unique         7              16                    7             14   \n",
      "top      Private         HS-grad   Married-civ-spouse   Craft-repair   \n",
      "freq       33307           14783                21055           6020   \n",
      "\n",
      "       relationship    race    sex  native-country income  \n",
      "count         45222   45222  45222           45222  45222  \n",
      "unique            6       5      2              41      2  \n",
      "top         Husband   White   Male   United-States  <=50K  \n",
      "freq          18666   38903  30527           41292  34014  \n"
     ]
    }
   ],
   "source": [
    "print(data.describe())\n",
    "print(data.describe(include=['O']))"
   ]
=======
   "execution_count": null,
   "metadata": {
    "collapsed": true
   },
   "outputs": [],
   "source": []
>>>>>>> a2ed83f702ce0f2c393189113b8d9a9c6275f240
  },
  {
   "cell_type": "markdown",
   "metadata": {},
   "source": [
    "** Featureset Exploration **\n",
    "\n",
    "* **age**: continuous. \n",
    "* **workclass**: Private, Self-emp-not-inc, Self-emp-inc, Federal-gov, Local-gov, State-gov, Without-pay, Never-worked. \n",
    "* **education**: Bachelors, Some-college, 11th, HS-grad, Prof-school, Assoc-acdm, Assoc-voc, 9th, 7th-8th, 12th, Masters, 1st-4th, 10th, Doctorate, 5th-6th, Preschool. \n",
    "* **education-num**: continuous. \n",
    "* **marital-status**: Married-civ-spouse, Divorced, Never-married, Separated, Widowed, Married-spouse-absent, Married-AF-spouse. \n",
    "* **occupation**: Tech-support, Craft-repair, Other-service, Sales, Exec-managerial, Prof-specialty, Handlers-cleaners, Machine-op-inspct, Adm-clerical, Farming-fishing, Transport-moving, Priv-house-serv, Protective-serv, Armed-Forces. \n",
    "* **relationship**: Wife, Own-child, Husband, Not-in-family, Other-relative, Unmarried. \n",
    "* **race**: Black, White, Asian-Pac-Islander, Amer-Indian-Eskimo, Other. \n",
    "* **sex**: Female, Male. \n",
    "* **capital-gain**: continuous. \n",
    "* **capital-loss**: continuous. \n",
    "* **hours-per-week**: continuous. \n",
    "* **native-country**: United-States, Cambodia, England, Puerto-Rico, Canada, Germany, Outlying-US(Guam-USVI-etc), India, Japan, Greece, South, China, Cuba, Iran, Honduras, Philippines, Italy, Poland, Jamaica, Vietnam, Mexico, Portugal, Ireland, France, Dominican-Republic, Laos, Ecuador, Taiwan, Haiti, Columbia, Hungary, Guatemala, Nicaragua, Scotland, Thailand, Yugoslavia, El-Salvador, Trinadad&Tobago, Peru, Hong, Holand-Netherlands."
   ]
  },
  {
   "cell_type": "markdown",
   "metadata": {},
   "source": [
    "----\n",
    "## Preparing the Data\n",
    "Before data can be used as input for machine learning algorithms, it often must be cleaned, formatted, and restructured — this is typically known as **preprocessing**. Fortunately, for this dataset, there are no invalid or missing entries we must deal with, however, there are some qualities about certain features that must be adjusted. This preprocessing can help tremendously with the outcome and predictive power of nearly all learning algorithms."
   ]
  },
  {
   "cell_type": "markdown",
   "metadata": {},
   "source": [
    "### Transforming Skewed Continuous Features\n",
    "A dataset may sometimes contain at least one feature whose values tend to lie near a single number, but will also have a non-trivial number of vastly larger or smaller values than that single number.  Algorithms can be sensitive to such distributions of values and can underperform if the range is not properly normalized. With the census dataset two features fit this description: '`capital-gain'` and `'capital-loss'`. \n",
    "\n",
    "Run the code cell below to plot a histogram of these two features. Note the range of the values present and how they are distributed."
   ]
  },
  {
   "cell_type": "code",
<<<<<<< HEAD
   "execution_count": 11,
=======
   "execution_count": 5,
>>>>>>> a2ed83f702ce0f2c393189113b8d9a9c6275f240
   "metadata": {},
   "outputs": [
    {
     "data": {
      "image/png": "iVBORw0KGgoAAAANSUhEUgAAAxAAAAF2CAYAAAD+y36TAAAABHNCSVQICAgIfAhkiAAAAAlwSFlz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\n2gQEAADQJiAAAIA2AQEAALQJCAAAoO0Ga7UEP7pgqRcAAAAASUVORK5CYII=\n",
      "text/plain": [
       "<matplotlib.figure.Figure at 0x1a1e2da8d0>"
      ]
     },
     "metadata": {},
     "output_type": "display_data"
    }
   ],
   "source": [
    "# Split the data into features and target label\n",
    "income_raw = data['income']\n",
    "features_raw = data.drop('income', axis = 1)\n",
    "\n",
    "# Visualize skewed continuous features of original data\n",
    "vs.distribution(data)"
   ]
  },
  {
   "cell_type": "markdown",
   "metadata": {},
   "source": [
    "For highly-skewed feature distributions such as `'capital-gain'` and `'capital-loss'`, it is common practice to apply a <a href=\"https://en.wikipedia.org/wiki/Data_transformation_(statistics)\">logarithmic transformation</a> on the data so that the very large and very small values do not negatively affect the performance of a learning algorithm. Using a logarithmic transformation significantly reduces the range of values caused by outliers. Care must be taken when applying this transformation however: The logarithm of `0` is undefined, so we must translate the values by a small amount above `0` to apply the the logarithm successfully.\n",
    "\n",
    "Run the code cell below to perform a transformation on the data and visualize the results. Again, note the range of values and how they are distributed. "
   ]
  },
  {
   "cell_type": "code",
<<<<<<< HEAD
   "execution_count": 12,
=======
   "execution_count": 6,
>>>>>>> a2ed83f702ce0f2c393189113b8d9a9c6275f240
   "metadata": {},
   "outputs": [
    {
     "data": {
      "image/png": "iVBORw0KGgoAAAANSUhEUgAAAxAAAAF2CAYAAAD+y36TAAAABHNCSVQICAgIfAhkiAAAAAlwSFlz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\nlt95AAAAAElFTkSuQmCC\n",
      "text/plain": [
       "<matplotlib.figure.Figure at 0x11ba59630>"
      ]
     },
     "metadata": {},
     "output_type": "display_data"
    }
   ],
   "source": [
    "# Log-transform the skewed features\n",
    "skewed = ['capital-gain', 'capital-loss']\n",
    "features_log_transformed = pd.DataFrame(data = features_raw)\n",
    "features_log_transformed[skewed] = features_raw[skewed].apply(lambda x: np.log(x + 1))\n",
    "\n",
    "# Visualize the new log distributions\n",
    "vs.distribution(features_log_transformed, transformed = True)"
   ]
  },
  {
   "cell_type": "markdown",
   "metadata": {},
   "source": [
    "### Normalizing Numerical Features\n",
    "In addition to performing transformations on features that are highly skewed, it is often good practice to perform some type of scaling on numerical features. Applying a scaling to the data does not change the shape of each feature's distribution (such as `'capital-gain'` or `'capital-loss'` above); however, normalization ensures that each feature is treated equally when applying supervised learners. Note that once scaling is applied, observing the data in its raw form will no longer have the same original meaning, as exampled below.\n",
    "\n",
    "Run the code cell below to normalize each numerical feature. We will use [`sklearn.preprocessing.MinMaxScaler`](http://scikit-learn.org/stable/modules/generated/sklearn.preprocessing.MinMaxScaler.html) for this."
   ]
  },
  {
   "cell_type": "code",
<<<<<<< HEAD
   "execution_count": 13,
=======
   "execution_count": 7,
>>>>>>> a2ed83f702ce0f2c393189113b8d9a9c6275f240
   "metadata": {},
   "outputs": [
    {
     "name": "stderr",
     "output_type": "stream",
     "text": [
      "/Library/anaconda/lib/python3.6/site-packages/sklearn/preprocessing/data.py:323: DataConversionWarning: Data with input dtype int64, float64 were all converted to float64 by MinMaxScaler.\n",
      "  return self.partial_fit(X, y)\n"
     ]
    },
    {
     "data": {
      "text/html": [
       "<div>\n",
       "<style>\n",
       "    .dataframe thead tr:only-child th {\n",
       "        text-align: right;\n",
       "    }\n",
       "\n",
       "    .dataframe thead th {\n",
       "        text-align: left;\n",
       "    }\n",
       "\n",
       "    .dataframe tbody tr th {\n",
       "        vertical-align: top;\n",
       "    }\n",
       "</style>\n",
       "<table border=\"1\" class=\"dataframe\">\n",
       "  <thead>\n",
       "    <tr style=\"text-align: right;\">\n",
       "      <th></th>\n",
       "      <th>age</th>\n",
       "      <th>workclass</th>\n",
       "      <th>education_level</th>\n",
       "      <th>education-num</th>\n",
       "      <th>marital-status</th>\n",
       "      <th>occupation</th>\n",
       "      <th>relationship</th>\n",
       "      <th>race</th>\n",
       "      <th>sex</th>\n",
       "      <th>capital-gain</th>\n",
       "      <th>capital-loss</th>\n",
       "      <th>hours-per-week</th>\n",
       "      <th>native-country</th>\n",
       "    </tr>\n",
       "  </thead>\n",
       "  <tbody>\n",
       "    <tr>\n",
       "      <th>0</th>\n",
       "      <td>0.301370</td>\n",
       "      <td>State-gov</td>\n",
       "      <td>Bachelors</td>\n",
       "      <td>0.800000</td>\n",
       "      <td>Never-married</td>\n",
       "      <td>Adm-clerical</td>\n",
       "      <td>Not-in-family</td>\n",
       "      <td>White</td>\n",
       "      <td>Male</td>\n",
       "      <td>0.667492</td>\n",
       "      <td>0.0</td>\n",
       "      <td>0.397959</td>\n",
       "      <td>United-States</td>\n",
       "    </tr>\n",
       "    <tr>\n",
       "      <th>1</th>\n",
       "      <td>0.452055</td>\n",
       "      <td>Self-emp-not-inc</td>\n",
       "      <td>Bachelors</td>\n",
       "      <td>0.800000</td>\n",
       "      <td>Married-civ-spouse</td>\n",
       "      <td>Exec-managerial</td>\n",
       "      <td>Husband</td>\n",
       "      <td>White</td>\n",
       "      <td>Male</td>\n",
       "      <td>0.000000</td>\n",
       "      <td>0.0</td>\n",
       "      <td>0.122449</td>\n",
       "      <td>United-States</td>\n",
       "    </tr>\n",
       "    <tr>\n",
       "      <th>2</th>\n",
       "      <td>0.287671</td>\n",
       "      <td>Private</td>\n",
       "      <td>HS-grad</td>\n",
       "      <td>0.533333</td>\n",
       "      <td>Divorced</td>\n",
       "      <td>Handlers-cleaners</td>\n",
       "      <td>Not-in-family</td>\n",
       "      <td>White</td>\n",
       "      <td>Male</td>\n",
       "      <td>0.000000</td>\n",
       "      <td>0.0</td>\n",
       "      <td>0.397959</td>\n",
       "      <td>United-States</td>\n",
       "    </tr>\n",
       "    <tr>\n",
       "      <th>3</th>\n",
       "      <td>0.493151</td>\n",
       "      <td>Private</td>\n",
       "      <td>11th</td>\n",
       "      <td>0.400000</td>\n",
       "      <td>Married-civ-spouse</td>\n",
       "      <td>Handlers-cleaners</td>\n",
       "      <td>Husband</td>\n",
       "      <td>Black</td>\n",
       "      <td>Male</td>\n",
       "      <td>0.000000</td>\n",
       "      <td>0.0</td>\n",
       "      <td>0.397959</td>\n",
       "      <td>United-States</td>\n",
       "    </tr>\n",
       "    <tr>\n",
       "      <th>4</th>\n",
       "      <td>0.150685</td>\n",
       "      <td>Private</td>\n",
       "      <td>Bachelors</td>\n",
       "      <td>0.800000</td>\n",
       "      <td>Married-civ-spouse</td>\n",
       "      <td>Prof-specialty</td>\n",
       "      <td>Wife</td>\n",
       "      <td>Black</td>\n",
       "      <td>Female</td>\n",
       "      <td>0.000000</td>\n",
       "      <td>0.0</td>\n",
       "      <td>0.397959</td>\n",
       "      <td>Cuba</td>\n",
       "    </tr>\n",
       "  </tbody>\n",
       "</table>\n",
       "</div>"
      ],
      "text/plain": [
       "        age          workclass education_level  education-num  \\\n",
       "0  0.301370          State-gov       Bachelors       0.800000   \n",
       "1  0.452055   Self-emp-not-inc       Bachelors       0.800000   \n",
       "2  0.287671            Private         HS-grad       0.533333   \n",
       "3  0.493151            Private            11th       0.400000   \n",
       "4  0.150685            Private       Bachelors       0.800000   \n",
       "\n",
       "        marital-status          occupation    relationship    race      sex  \\\n",
       "0        Never-married        Adm-clerical   Not-in-family   White     Male   \n",
       "1   Married-civ-spouse     Exec-managerial         Husband   White     Male   \n",
       "2             Divorced   Handlers-cleaners   Not-in-family   White     Male   \n",
       "3   Married-civ-spouse   Handlers-cleaners         Husband   Black     Male   \n",
       "4   Married-civ-spouse      Prof-specialty            Wife   Black   Female   \n",
       "\n",
       "   capital-gain  capital-loss  hours-per-week  native-country  \n",
       "0      0.667492           0.0        0.397959   United-States  \n",
       "1      0.000000           0.0        0.122449   United-States  \n",
       "2      0.000000           0.0        0.397959   United-States  \n",
       "3      0.000000           0.0        0.397959   United-States  \n",
       "4      0.000000           0.0        0.397959            Cuba  "
      ]
     },
     "metadata": {},
     "output_type": "display_data"
    }
   ],
   "source": [
    "# Import sklearn.preprocessing.StandardScaler\n",
    "from sklearn.preprocessing import MinMaxScaler\n",
    "\n",
    "# Initialize a scaler, then apply it to the features\n",
    "scaler = MinMaxScaler() # default=(0, 1)\n",
    "numerical = ['age', 'education-num', 'capital-gain', 'capital-loss', 'hours-per-week']\n",
    "\n",
    "features_log_minmax_transform = pd.DataFrame(data = features_log_transformed)\n",
    "features_log_minmax_transform[numerical] = scaler.fit_transform(features_log_transformed[numerical])\n",
    "\n",
    "# Show an example of a record with scaling applied\n",
    "display(features_log_minmax_transform.head(n = 5))"
   ]
  },
  {
   "cell_type": "markdown",
   "metadata": {},
   "source": [
    "### Implementation: Data Preprocessing\n",
    "\n",
    "From the table in **Exploring the Data** above, we can see there are several features for each record that are non-numeric. Typically, learning algorithms expect input to be numeric, which requires that non-numeric features (called *categorical variables*) be converted. One popular way to convert categorical variables is by using the **one-hot encoding** scheme. One-hot encoding creates a _\"dummy\"_ variable for each possible category of each non-numeric feature. For example, assume `someFeature` has three possible entries: `A`, `B`, or `C`. We then encode this feature into `someFeature_A`, `someFeature_B` and `someFeature_C`.\n",
    "\n",
    "|   | someFeature |                    | someFeature_A | someFeature_B | someFeature_C |\n",
    "| :-: | :-: |                            | :-: | :-: | :-: |\n",
    "| 0 |  B  |  | 0 | 1 | 0 |\n",
    "| 1 |  C  | ----> one-hot encode ----> | 0 | 0 | 1 |\n",
    "| 2 |  A  |  | 1 | 0 | 0 |\n",
    "\n",
    "Additionally, as with the non-numeric features, we need to convert the non-numeric target label, `'income'` to numerical values for the learning algorithm to work. Since there are only two possible categories for this label (\"<=50K\" and \">50K\"), we can avoid using one-hot encoding and simply encode these two categories as `0` and `1`, respectively. In code cell below, you will need to implement the following:\n",
    " - Use [`pandas.get_dummies()`](http://pandas.pydata.org/pandas-docs/stable/generated/pandas.get_dummies.html?highlight=get_dummies#pandas.get_dummies) to perform one-hot encoding on the `'features_log_minmax_transform'` data.\n",
    " - Convert the target label `'income_raw'` to numerical entries.\n",
    "   - Set records with \"<=50K\" to `0` and records with \">50K\" to `1`."
   ]
  },
  {
   "cell_type": "code",
<<<<<<< HEAD
   "execution_count": 28,
=======
   "execution_count": 8,
>>>>>>> a2ed83f702ce0f2c393189113b8d9a9c6275f240
   "metadata": {
    "scrolled": true
   },
   "outputs": [
    {
     "name": "stdout",
     "output_type": "stream",
     "text": [
      "103 total features after one-hot encoding.\n",
      "['age', 'education-num', 'capital-gain', 'capital-loss', 'hours-per-week', 'workclass_ Federal-gov', 'workclass_ Local-gov', 'workclass_ Private', 'workclass_ Self-emp-inc', 'workclass_ Self-emp-not-inc', 'workclass_ State-gov', 'workclass_ Without-pay', 'education_level_ 10th', 'education_level_ 11th', 'education_level_ 12th', 'education_level_ 1st-4th', 'education_level_ 5th-6th', 'education_level_ 7th-8th', 'education_level_ 9th', 'education_level_ Assoc-acdm', 'education_level_ Assoc-voc', 'education_level_ Bachelors', 'education_level_ Doctorate', 'education_level_ HS-grad', 'education_level_ Masters', 'education_level_ Preschool', 'education_level_ Prof-school', 'education_level_ Some-college', 'marital-status_ Divorced', 'marital-status_ Married-AF-spouse', 'marital-status_ Married-civ-spouse', 'marital-status_ Married-spouse-absent', 'marital-status_ Never-married', 'marital-status_ Separated', 'marital-status_ Widowed', 'occupation_ Adm-clerical', 'occupation_ Armed-Forces', 'occupation_ Craft-repair', 'occupation_ Exec-managerial', 'occupation_ Farming-fishing', 'occupation_ Handlers-cleaners', 'occupation_ Machine-op-inspct', 'occupation_ Other-service', 'occupation_ Priv-house-serv', 'occupation_ Prof-specialty', 'occupation_ Protective-serv', 'occupation_ Sales', 'occupation_ Tech-support', 'occupation_ Transport-moving', 'relationship_ Husband', 'relationship_ Not-in-family', 'relationship_ Other-relative', 'relationship_ Own-child', 'relationship_ Unmarried', 'relationship_ Wife', 'race_ Amer-Indian-Eskimo', 'race_ Asian-Pac-Islander', 'race_ Black', 'race_ Other', 'race_ White', 'sex_ Female', 'sex_ Male', 'native-country_ Cambodia', 'native-country_ Canada', 'native-country_ China', 'native-country_ Columbia', 'native-country_ Cuba', 'native-country_ Dominican-Republic', 'native-country_ Ecuador', 'native-country_ El-Salvador', 'native-country_ England', 'native-country_ France', 'native-country_ Germany', 'native-country_ Greece', 'native-country_ Guatemala', 'native-country_ Haiti', 'native-country_ Holand-Netherlands', 'native-country_ Honduras', 'native-country_ Hong', 'native-country_ Hungary', 'native-country_ India', 'native-country_ Iran', 'native-country_ Ireland', 'native-country_ Italy', 'native-country_ Jamaica', 'native-country_ Japan', 'native-country_ Laos', 'native-country_ Mexico', 'native-country_ Nicaragua', 'native-country_ Outlying-US(Guam-USVI-etc)', 'native-country_ Peru', 'native-country_ Philippines', 'native-country_ Poland', 'native-country_ Portugal', 'native-country_ Puerto-Rico', 'native-country_ Scotland', 'native-country_ South', 'native-country_ Taiwan', 'native-country_ Thailand', 'native-country_ Trinadad&Tobago', 'native-country_ United-States', 'native-country_ Vietnam', 'native-country_ Yugoslavia']\n",
      "0    34014\n",
      "1    11208\n",
<<<<<<< HEAD
      "dtype: int64\n",
      "<=50K    34014\n",
      ">50K     11208\n",
      "Name: income, dtype: int64\n"
=======
      "dtype: int64\n"
>>>>>>> a2ed83f702ce0f2c393189113b8d9a9c6275f240
     ]
    }
   ],
   "source": [
    "# TODO: One-hot encode the 'features_log_minmax_transform' data using pandas.get_dummies()\n",
    "features_final = pd.get_dummies(features_log_minmax_transform)\n",
    "\n",
    "# TODO: Encode the 'income_raw' data to numerical values\n",
    "income = income_raw.astype('category').cat.codes\n",
    "\n",
    "# Print the number of features after one-hot encoding\n",
    "encoded = list(features_final.columns)\n",
    "print(\"{} total features after one-hot encoding.\".format(len(encoded)))\n",
    "\n",
    "# Uncomment the following line to see the encoded feature names\n",
    "print (encoded)\n",
<<<<<<< HEAD
    "print (income.value_counts())\n",
    "print (income_raw.value_counts())\n"
=======
    "print (income.value_counts())"
>>>>>>> a2ed83f702ce0f2c393189113b8d9a9c6275f240
   ]
  },
  {
   "cell_type": "markdown",
   "metadata": {},
   "source": [
    "### Shuffle and Split Data\n",
    "Now all _categorical variables_ have been converted into numerical features, and all numerical features have been normalized. As always, we will now split the data (both features and their labels) into training and test sets. 80% of the data will be used for training and 20% for testing.\n",
    "\n",
    "Run the code cell below to perform this split."
   ]
  },
  {
   "cell_type": "code",
<<<<<<< HEAD
   "execution_count": 29,
   "metadata": {},
=======
   "execution_count": 9,
   "metadata": {
    "scrolled": true
   },
>>>>>>> a2ed83f702ce0f2c393189113b8d9a9c6275f240
   "outputs": [
    {
     "name": "stdout",
     "output_type": "stream",
     "text": [
      "Training set has 36177 samples.\n",
      "Testing set has 9045 samples.\n"
     ]
<<<<<<< HEAD
    },
    {
     "name": "stderr",
     "output_type": "stream",
     "text": [
      "C:\\ProgramData\\Anaconda3\\lib\\site-packages\\sklearn\\cross_validation.py:41: DeprecationWarning: This module was deprecated in version 0.18 in favor of the model_selection module into which all the refactored classes and functions are moved. Also note that the interface of the new CV iterators are different from that of this module. This module will be removed in 0.20.\n",
      "  \"This module will be removed in 0.20.\", DeprecationWarning)\n"
     ]
=======
>>>>>>> a2ed83f702ce0f2c393189113b8d9a9c6275f240
    }
   ],
   "source": [
    "# Import train_test_split\n",
    "from sklearn.model_selection import train_test_split\n",
    "\n",
    "# Split the 'features' and 'income' data into training and testing sets\n",
    "X_train, X_test, y_train, y_test = train_test_split(features_final, \n",
    "                                                    income, \n",
    "                                                    test_size = 0.2, \n",
    "                                                    random_state = 0)\n",
    "\n",
    "# Show the results of the split\n",
    "print(\"Training set has {} samples.\".format(X_train.shape[0]))\n",
    "print(\"Testing set has {} samples.\".format(X_test.shape[0]))"
   ]
  },
  {
   "cell_type": "markdown",
   "metadata": {},
   "source": [
    "----\n",
    "## Evaluating Model Performance\n",
    "In this section, we will investigate four different algorithms, and determine which is best at modeling the data. Three of these algorithms will be supervised learners of your choice, and the fourth algorithm is known as a *naive predictor*."
   ]
  },
  {
   "cell_type": "markdown",
   "metadata": {},
   "source": [
    "### Metrics and the Naive Predictor\n",
    "*CharityML*, equipped with their research, knows individuals that make more than \\$50,000 are most likely to donate to their charity. Because of this, *CharityML* is particularly interested in predicting who makes more than \\$50,000 accurately. It would seem that using **accuracy** as a metric for evaluating a particular model's performace would be appropriate. Additionally, identifying someone that *does not* make more than \\$50,000 as someone who does would be detrimental to *CharityML*, since they are looking to find individuals willing to donate. Therefore, a model's ability to precisely predict those that make more than \\$50,000 is *more important* than the model's ability to **recall** those individuals. We can use **F-beta score** as a metric that considers both precision and recall:\n",
    "\n",
    "$$ F_{\\beta} = (1 + \\beta^2) \\cdot \\frac{precision \\cdot recall}{\\left( \\beta^2 \\cdot precision \\right) + recall} $$\n",
    "\n",
    "In particular, when $\\beta = 0.5$, more emphasis is placed on precision. This is called the **F$_{0.5}$ score** (or F-score for simplicity).\n",
    "\n",
    "Looking at the distribution of classes (those who make at most \\$50,000, and those who make more), it's clear most individuals do not make more than \\$50,000. This can greatly affect **accuracy**, since we could simply say *\"this person does not make more than \\$50,000\"* and generally be right, without ever looking at the data! Making such a statement would be called **naive**, since we have not considered any information to substantiate the claim. It is always important to consider the *naive prediction* for your data, to help establish a benchmark for whether a model is performing well. That been said, using that prediction would be pointless: If we predicted all people made less than \\$50,000, *CharityML* would identify no one as donors. \n",
    "\n",
    "\n",
    "#### Note: Recap of accuracy, precision, recall\n",
    "\n",
    "** Accuracy ** measures how often the classifier makes the correct prediction. It’s the ratio of the number of correct predictions to the total number of predictions (the number of test data points).\n",
    "\n",
    "** Precision ** tells us what proportion of messages we classified as spam, actually were spam.\n",
    "It is a ratio of true positives(words classified as spam, and which are actually spam) to all positives(all words classified as spam, irrespective of whether that was the correct classificatio), in other words it is the ratio of\n",
    "\n",
    "`[True Positives/(True Positives + False Positives)]`\n",
    "\n",
    "** Recall(sensitivity)** tells us what proportion of messages that actually were spam were classified by us as spam.\n",
    "It is a ratio of true positives(words classified as spam, and which are actually spam) to all the words that were actually spam, in other words it is the ratio of\n",
    "\n",
    "`[True Positives/(True Positives + False Negatives)]`\n",
    "\n",
    "For classification problems that are skewed in their classification distributions like in our case, for example if we had a 100 text messages and only 2 were spam and the rest 98 weren't, accuracy by itself is not a very good metric. We could classify 90 messages as not spam(including the 2 that were spam but we classify them as not spam, hence they would be false negatives) and 10 as spam(all 10 false positives) and still get a reasonably good accuracy score. For such cases, precision and recall come in very handy. These two metrics can be combined to get the F1 score, which is weighted average(harmonic mean) of the precision and recall scores. This score can range from 0 to 1, with 1 being the best possible F1 score(we take the harmonic mean as we are dealing with ratios)."
   ]
  },
  {
   "cell_type": "markdown",
   "metadata": {},
   "source": [
    "### Question 1 - Naive Predictor Performace\n",
    "* If we chose a model that always predicted an individual made more than $50,000, what would  that model's accuracy and F-score be on this dataset? You must use the code cell below and assign your results to `'accuracy'` and `'fscore'` to be used later.\n",
    "\n",
    "** Please note ** that the the purpose of generating a naive predictor is simply to show what a base model without any intelligence would look like. In the real world, ideally your base model would be either the results of a previous model or could be based on a research paper upon which you are looking to improve. When there is no benchmark model set, getting a result better than random choice is a place you could start from.\n",
    "\n",
    "** HINT: ** \n",
    "\n",
    "* When we have a model that always predicts '1' (i.e. the individual makes more than 50k) then our model will have no True Negatives(TN) or False Negatives(FN) as we are not making any negative('0' value) predictions. Therefore our Accuracy in this case becomes the same as our Precision(True Positives/(True Positives + False Positives)) as every prediction that we have made with value '1' that should have '0' becomes a False Positive; therefore our denominator in this case is the total number of records we have in total. \n",
    "* Our Recall score(True Positives/(True Positives + False Negatives)) in this setting becomes 1 as we have no False Negatives."
   ]
  },
  {
   "cell_type": "code",
<<<<<<< HEAD
   "execution_count": 31,
=======
   "execution_count": 10,
>>>>>>> a2ed83f702ce0f2c393189113b8d9a9c6275f240
   "metadata": {},
   "outputs": [
    {
     "name": "stdout",
     "output_type": "stream",
     "text": [
      "Naive Predictor: [Accuracy score: 0.2478, F-score: 0.2917]\n"
     ]
    }
   ],
   "source": [
    "'''\n",
    "TP = np.sum(income) # Counting the ones as this is the naive case. Note that 'income' is the 'income_raw' data \n",
    "encoded to numerical values done in the data preprocessing step.\n",
    "FP = income.count() - TP # Specific to the naive case\n",
    "\n",
    "TN = 0 # No predicted negatives in the naive case\n",
    "FN = 0 # No predicted negatives in the naive case\n",
    "'''\n",
    "# TODO: Calculate accuracy, precision and recall\n",
<<<<<<< HEAD
    "accuracy = np.sum(income)/ income.count()\n",
    "recall = np.sum(income)/ (np.sum(income)+0)\n",
    "precision = np.sum(income)/ income.count() \n",
    "\n",
    "# TODO: Calculate F-score using the formula above for beta = 0.5 and correct values for precision and recall.\n",
    "fscore = (1+np.power(0.5,2))*((precision*recall)/((np.power(0.5,2)*precision)+recall))\n",
=======
    "accuracy = np.sum(income)/income.count()\n",
    "recall = np.sum(income)/np.sum(income)\n",
    "precision = np.sum(income)/income.count()\n",
    "\n",
    "# TODO: Calculate F-score using the formula above for beta = 0.5 and correct values for precision and recall.\n",
    "fscore = (1+np.power(0.5,2))*(precision*recall)/((np.power(0.5,2)*precision)+recall)\n",
>>>>>>> a2ed83f702ce0f2c393189113b8d9a9c6275f240
    "\n",
    "# Print the results \n",
    "print(\"Naive Predictor: [Accuracy score: {:.4f}, F-score: {:.4f}]\".format(accuracy, fscore))"
   ]
  },
  {
   "cell_type": "markdown",
   "metadata": {},
   "source": [
    "###  Supervised Learning Models\n",
    "**The following are some of the supervised learning models that are currently available in** [`scikit-learn`](http://scikit-learn.org/stable/supervised_learning.html) **that you may choose from:**\n",
    "- Gaussian Naive Bayes (GaussianNB)\n",
    "- Decision Trees\n",
    "- Ensemble Methods (Bagging, AdaBoost, Random Forest, Gradient Boosting)\n",
    "- K-Nearest Neighbors (KNeighbors)\n",
    "- Stochastic Gradient Descent Classifier (SGDC)\n",
    "- Support Vector Machines (SVM)\n",
    "- Logistic Regression"
   ]
  },
  {
   "cell_type": "markdown",
   "metadata": {},
   "source": [
    "### Question 2 - Model Application\n",
    "List three of the supervised learning models above that are appropriate for this problem that you will test on the census data. For each model chosen\n",
    "\n",
    "- Describe one real-world application in industry where the model can be applied. \n",
    "- What are the strengths of the model; when does it perform well?\n",
    "- What are the weaknesses of the model; when does it perform poorly?\n",
    "- What makes this model a good candidate for the problem, given what you know about the data?\n",
    "\n",
    "** HINT: **\n",
    "\n",
    "Structure your answer in the same format as above^, with 4 parts for each of the three models you pick. Please include references with your answer."
   ]
  },
  {
   "cell_type": "markdown",
   "metadata": {},
   "source": [
    "**Answer: **"
   ]
  },
  {
   "cell_type": "markdown",
   "metadata": {},
   "source": [
    "### Implementation - Creating a Training and Predicting Pipeline\n",
    "To properly evaluate the performance of each model you've chosen, it's important that you create a training and predicting pipeline that allows you to quickly and effectively train models using various sizes of training data and perform predictions on the testing data. Your implementation here will be used in the following section.\n",
    "In the code block below, you will need to implement the following:\n",
    " - Import `fbeta_score` and `accuracy_score` from [`sklearn.metrics`](http://scikit-learn.org/stable/modules/classes.html#sklearn-metrics-metrics).\n",
    " - Fit the learner to the sampled training data and record the training time.\n",
    " - Perform predictions on the test data `X_test`, and also on the first 300 training points `X_train[:300]`.\n",
    "   - Record the total prediction time.\n",
    " - Calculate the accuracy score for both the training subset and testing set.\n",
    " - Calculate the F-score for both the training subset and testing set.\n",
    "   - Make sure that you set the `beta` parameter!"
   ]
  },
  {
   "cell_type": "code",
   "execution_count": 11,
   "metadata": {
    "collapsed": true
   },
   "outputs": [],
   "source": [
    "# TODO: Import two metrics from sklearn - fbeta_score and accuracy_score\n",
    "from sklearn.metrics import fbeta_score, accuracy_score\n",
    "\n",
    "def train_predict(learner, sample_size, X_train, y_train, X_test, y_test): \n",
    "    '''\n",
    "    inputs:\n",
    "       - learner: the learning algorithm to be trained and predicted on\n",
    "       - sample_size: the size of samples (number) to be drawn from training set\n",
    "       - X_train: features training set\n",
    "       - y_train: income training set\n",
    "       - X_test: features testing set\n",
    "       - y_test: income testing set\n",
    "    '''\n",
    "    \n",
    "    results = {}\n",
    "    \n",
    "    # TODO: Fit the learner to the training data using slicing with 'sample_size' using .fit(training_features[:], training_labels[:])\n",
    "    \n",
    "    start = time() # Get start time\n",
    "    learner = learner.fit(X_train[:sample_size], y_train[:sample_size])\n",
    "    end = time() # Get end time\n",
    "    \n",
    "    # TODO: Calculate the training time\n",
    "    results['train_time'] = start-end\n",
    "        \n",
    "    # TODO: Get the predictions on the test set(X_test),\n",
    "    #       then get predictions on the first 300 training samples(X_train) using .predict()\n",
    "    start = time() # Get start time\n",
    "    predictions_test = learner.predict(X_test)\n",
    "    predictions_train = learner.predict(X_train[:300])\n",
    "    end = time() # Get end time\n",
    "    \n",
    "    # TODO: Calculate the total prediction time\n",
    "    results['pred_time'] = start-end\n",
    "            \n",
    "    # TODO: Compute accuracy on the first 300 training samples which is y_train[:300]\n",
    "    results['acc_train'] = accuracy_score(y_train[:300], predictions_train)\n",
    "        \n",
    "    # TODO: Compute accuracy on test set using accuracy_score()\n",
    "    results['acc_test'] = accuracy_score(y_test, predictions_test)\n",
    "    \n",
    "    # TODO: Compute F-score on the the first 300 training samples using fbeta_score()\n",
    "    results['f_train'] = fbeta_score(y_train[:300], predictions_train,beta=0.5)\n",
    "        \n",
    "    # TODO: Compute F-score on the test set which is y_test\n",
    "    results['f_test'] = fbeta_score(y_test, predictions_test,beta=0.5)\n",
    "       \n",
    "    # Success\n",
    "    print(\"{} trained on {} samples.\".format(learner.__class__.__name__, sample_size))\n",
    "        \n",
    "    # Return the results\n",
    "    return results"
   ]
  },
  {
   "cell_type": "markdown",
   "metadata": {},
   "source": [
    "### Implementation: Initial Model Evaluation\n",
    "In the code cell, you will need to implement the following:\n",
    "- Import the three supervised learning models you've discussed in the previous section.\n",
    "- Initialize the three models and store them in `'clf_A'`, `'clf_B'`, and `'clf_C'`.\n",
    "  - Use a `'random_state'` for each model you use, if provided.\n",
    "  - **Note:** Use the default settings for each model — you will tune one specific model in a later section.\n",
    "- Calculate the number of records equal to 1%, 10%, and 100% of the training data.\n",
    "  - Store those values in `'samples_1'`, `'samples_10'`, and `'samples_100'` respectively.\n",
    "\n",
    "**Note:** Depending on which algorithms you chose, the following implementation may take some time to run!"
   ]
  },
  {
   "cell_type": "code",
   "execution_count": 12,
   "metadata": {},
   "outputs": [
    {
     "name": "stdout",
     "output_type": "stream",
     "text": [
      "DecisionTreeClassifier trained on 361 samples.\n",
      "DecisionTreeClassifier trained on 3617 samples.\n",
      "DecisionTreeClassifier trained on 36177 samples.\n",
      "SVC trained on 361 samples.\n",
      "SVC trained on 3617 samples.\n",
      "SVC trained on 36177 samples.\n",
      "AdaBoostClassifier trained on 361 samples.\n",
      "AdaBoostClassifier trained on 3617 samples.\n",
      "AdaBoostClassifier trained on 36177 samples.\n"
     ]
    },
    {
     "data": {
      "image/png": "iVBORw0KGgoAAAANSUhEUgAAAxAAAAIuCAYAAAAv/u6UAAAABHNCSVQICAgIfAhkiAAAAAlwSFlz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\n",
      "text/plain": [
       "<matplotlib.figure.Figure at 0x1a254c7320>"
      ]
     },
     "metadata": {},
     "output_type": "display_data"
    }
   ],
   "source": [
    "# TODO: Import the three supervised learning models from sklearn\n",
    "from sklearn.tree import DecisionTreeClassifier\n",
    "from sklearn.svm import SVC\n",
    "from sklearn.ensemble import AdaBoostClassifier\n",
    "\n",
    "# TODO: Initialize the three models\n",
    "clf_A = DecisionTreeClassifier(random_state=42)\n",
    "clf_B = SVC(kernel='rbf', gamma=27)\n",
    "clf_C = AdaBoostClassifier()\n",
    "\n",
    "# TODO: Calculate the number of samples for 1%, 10%, and 100% of the training data\n",
    "# HINT: samples_100 is the entire training set i.e. len(y_train)\n",
    "# HINT: samples_10 is 10% of samples_100 (ensure to set the count of the values to be `int` and not `float`)\n",
    "# HINT: samples_1 is 1% of samples_100 (ensure to set the count of the values to be `int` and not `float`)\n",
    "samples_100 = len(y_train)\n",
    "samples_10 = int(10/100*samples_100)\n",
    "samples_1 = int(1/100*samples_100)\n",
    "\n",
    "# Collect results on the learners\n",
    "results = {}\n",
    "for clf in [clf_A, clf_B, clf_C]:\n",
    "    clf_name = clf.__class__.__name__\n",
    "    results[clf_name] = {}\n",
    "    for i, samples in enumerate([samples_1, samples_10, samples_100]):\n",
    "        results[clf_name][i] = \\\n",
    "        train_predict(clf, samples, X_train, y_train, X_test, y_test)\n",
    "\n",
    "# Run metrics visualization for the three supervised learning models chosen\n",
    "vs.evaluate(results, accuracy, fscore)"
   ]
  },
  {
   "cell_type": "markdown",
   "metadata": {},
   "source": [
    "----\n",
    "## Improving Results\n",
    "In this final section, you will choose from the three supervised learning models the *best* model to use on the student data. You will then perform a grid search optimization for the model over the entire training set (`X_train` and `y_train`) by tuning at least one parameter to improve upon the untuned model's F-score. "
   ]
  },
  {
   "cell_type": "markdown",
   "metadata": {},
   "source": [
    "### Question 3 - Choosing the Best Model\n",
    "\n",
    "* Based on the evaluation you performed earlier, in one to two paragraphs, explain to *CharityML* which of the three models you believe to be most appropriate for the task of identifying individuals that make more than \\$50,000. \n",
    "\n",
    "** HINT: ** \n",
    "Look at the graph at the bottom left from the cell above(the visualization created by `vs.evaluate(results, accuracy, fscore)`) and check the F score for the testing set when 100% of the training set is used. Which model has the highest score? Your answer should include discussion of the:\n",
    "* metrics - F score on the testing when 100% of the training data is used, \n",
    "* prediction/training time\n",
    "* the algorithm's suitability for the data."
   ]
  },
  {
   "cell_type": "markdown",
   "metadata": {},
   "source": [
    "**Answer: **"
   ]
  },
  {
   "cell_type": "markdown",
   "metadata": {},
   "source": [
    "### Question 4 - Describing the Model in Layman's Terms\n",
    "\n",
    "* In one to two paragraphs, explain to *CharityML*, in layman's terms, how the final model chosen is supposed to work. Be sure that you are describing the major qualities of the model, such as how the model is trained and how the model makes a prediction. Avoid using advanced mathematical jargon, such as describing equations.\n",
    "\n",
    "** HINT: **\n",
    "\n",
    "When explaining your model, if using external resources please include all citations."
   ]
  },
  {
   "cell_type": "markdown",
   "metadata": {},
   "source": [
    "**Answer: ** "
   ]
  },
  {
   "cell_type": "markdown",
   "metadata": {},
   "source": [
    "### Implementation: Model Tuning\n",
    "Fine tune the chosen model. Use grid search (`GridSearchCV`) with at least one important parameter tuned with at least 3 different values. You will need to use the entire training set for this. In the code cell below, you will need to implement the following:\n",
    "- Import [`sklearn.grid_search.GridSearchCV`](http://scikit-learn.org/0.17/modules/generated/sklearn.grid_search.GridSearchCV.html) and [`sklearn.metrics.make_scorer`](http://scikit-learn.org/stable/modules/generated/sklearn.metrics.make_scorer.html).\n",
    "- Initialize the classifier you've chosen and store it in `clf`.\n",
    " - Set a `random_state` if one is available to the same state you set before.\n",
    "- Create a dictionary of parameters you wish to tune for the chosen model.\n",
    " - Example: `parameters = {'parameter' : [list of values]}`.\n",
    " - **Note:** Avoid tuning the `max_features` parameter of your learner if that parameter is available!\n",
    "- Use `make_scorer` to create an `fbeta_score` scoring object (with $\\beta = 0.5$).\n",
    "- Perform grid search on the classifier `clf` using the `'scorer'`, and store it in `grid_obj`.\n",
    "- Fit the grid search object to the training data (`X_train`, `y_train`), and store it in `grid_fit`.\n",
    "\n",
    "**Note:** Depending on the algorithm chosen and the parameter list, the following implementation may take some time to run!"
   ]
  },
  {
   "cell_type": "code",
   "execution_count": null,
   "metadata": {
    "collapsed": true
   },
   "outputs": [],
   "source": [
    "# TODO: Import 'GridSearchCV', 'make_scorer', and any other necessary libraries\n",
    "\n",
    "# TODO: Initialize the classifier\n",
    "clf = None\n",
    "\n",
    "# TODO: Create the parameters list you wish to tune, using a dictionary if needed.\n",
    "# HINT: parameters = {'parameter_1': [value1, value2], 'parameter_2': [value1, value2]}\n",
    "parameters = None\n",
    "\n",
    "# TODO: Make an fbeta_score scoring object using make_scorer()\n",
    "scorer = None\n",
    "\n",
    "# TODO: Perform grid search on the classifier using 'scorer' as the scoring method using GridSearchCV()\n",
    "grid_obj = None\n",
    "\n",
    "# TODO: Fit the grid search object to the training data and find the optimal parameters using fit()\n",
    "grid_fit = None\n",
    "\n",
    "# Get the estimator\n",
    "best_clf = grid_fit.best_estimator_\n",
    "\n",
    "# Make predictions using the unoptimized and model\n",
    "predictions = (clf.fit(X_train, y_train)).predict(X_test)\n",
    "best_predictions = best_clf.predict(X_test)\n",
    "\n",
    "# Report the before-and-afterscores\n",
    "print(\"Unoptimized model\\n------\")\n",
    "print(\"Accuracy score on testing data: {:.4f}\".format(accuracy_score(y_test, predictions)))\n",
    "print(\"F-score on testing data: {:.4f}\".format(fbeta_score(y_test, predictions, beta = 0.5)))\n",
    "print(\"\\nOptimized Model\\n------\")\n",
    "print(\"Final accuracy score on the testing data: {:.4f}\".format(accuracy_score(y_test, best_predictions)))\n",
    "print(\"Final F-score on the testing data: {:.4f}\".format(fbeta_score(y_test, best_predictions, beta = 0.5)))"
   ]
  },
  {
   "cell_type": "markdown",
   "metadata": {},
   "source": [
    "### Question 5 - Final Model Evaluation\n",
    "\n",
    "* What is your optimized model's accuracy and F-score on the testing data? \n",
    "* Are these scores better or worse than the unoptimized model? \n",
    "* How do the results from your optimized model compare to the naive predictor benchmarks you found earlier in **Question 1**?_  \n",
    "\n",
    "**Note:** Fill in the table below with your results, and then provide discussion in the **Answer** box."
   ]
  },
  {
   "cell_type": "markdown",
   "metadata": {},
   "source": [
    "#### Results:\n",
    "\n",
    "|     Metric     | Unoptimized Model | Optimized Model |\n",
    "| :------------: | :---------------: | :-------------: | \n",
    "| Accuracy Score |                   |                 |\n",
    "| F-score        |                   |   EXAMPLE       |\n"
   ]
  },
  {
   "cell_type": "markdown",
   "metadata": {},
   "source": [
    "**Answer: **"
   ]
  },
  {
   "cell_type": "markdown",
   "metadata": {},
   "source": [
    "----\n",
    "## Feature Importance\n",
    "\n",
    "An important task when performing supervised learning on a dataset like the census data we study here is determining which features provide the most predictive power. By focusing on the relationship between only a few crucial features and the target label we simplify our understanding of the phenomenon, which is most always a useful thing to do. In the case of this project, that means we wish to identify a small number of features that most strongly predict whether an individual makes at most or more than \\$50,000.\n",
    "\n",
    "Choose a scikit-learn classifier (e.g., adaboost, random forests) that has a `feature_importance_` attribute, which is a function that ranks the importance of features according to the chosen classifier.  In the next python cell fit this classifier to training set and use this attribute to determine the top 5 most important features for the census dataset."
   ]
  },
  {
   "cell_type": "markdown",
   "metadata": {},
   "source": [
    "### Question 6 - Feature Relevance Observation\n",
    "When **Exploring the Data**, it was shown there are thirteen available features for each individual on record in the census data. Of these thirteen records, which five features do you believe to be most important for prediction, and in what order would you rank them and why?"
   ]
  },
  {
   "cell_type": "markdown",
   "metadata": {},
   "source": [
    "**Answer:**"
   ]
  },
  {
   "cell_type": "markdown",
   "metadata": {},
   "source": [
    "### Implementation - Extracting Feature Importance\n",
    "Choose a `scikit-learn` supervised learning algorithm that has a `feature_importance_` attribute availble for it. This attribute is a function that ranks the importance of each feature when making predictions based on the chosen algorithm.\n",
    "\n",
    "In the code cell below, you will need to implement the following:\n",
    " - Import a supervised learning model from sklearn if it is different from the three used earlier.\n",
    " - Train the supervised model on the entire training set.\n",
    " - Extract the feature importances using `'.feature_importances_'`."
   ]
  },
  {
   "cell_type": "code",
   "execution_count": null,
   "metadata": {
    "collapsed": true
   },
   "outputs": [],
   "source": [
    "# TODO: Import a supervised learning model that has 'feature_importances_'\n",
    "\n",
    "\n",
    "# TODO: Train the supervised model on the training set using .fit(X_train, y_train)\n",
    "model = None\n",
    "\n",
    "# TODO: Extract the feature importances using .feature_importances_ \n",
    "importances = None\n",
    "\n",
    "# Plot\n",
    "vs.feature_plot(importances, X_train, y_train)"
   ]
  },
  {
   "cell_type": "markdown",
   "metadata": {},
   "source": [
    "### Question 7 - Extracting Feature Importance\n",
    "\n",
    "Observe the visualization created above which displays the five most relevant features for predicting if an individual makes at most or above \\$50,000.  \n",
    "* How do these five features compare to the five features you discussed in **Question 6**?\n",
    "* If you were close to the same answer, how does this visualization confirm your thoughts? \n",
    "* If you were not close, why do you think these features are more relevant?"
   ]
  },
  {
   "cell_type": "markdown",
   "metadata": {},
   "source": [
    "**Answer:**"
   ]
  },
  {
   "cell_type": "markdown",
   "metadata": {},
   "source": [
    "### Feature Selection\n",
    "How does a model perform if we only use a subset of all the available features in the data? With less features required to train, the expectation is that training and prediction time is much lower — at the cost of performance metrics. From the visualization above, we see that the top five most important features contribute more than half of the importance of **all** features present in the data. This hints that we can attempt to *reduce the feature space* and simplify the information required for the model to learn. The code cell below will use the same optimized model you found earlier, and train it on the same training set *with only the top five important features*. "
   ]
  },
  {
   "cell_type": "code",
   "execution_count": null,
   "metadata": {
    "collapsed": true
   },
   "outputs": [],
   "source": [
    "# Import functionality for cloning a model\n",
    "from sklearn.base import clone\n",
    "\n",
    "# Reduce the feature space\n",
    "X_train_reduced = X_train[X_train.columns.values[(np.argsort(importances)[::-1])[:5]]]\n",
    "X_test_reduced = X_test[X_test.columns.values[(np.argsort(importances)[::-1])[:5]]]\n",
    "\n",
    "# Train on the \"best\" model found from grid search earlier\n",
    "clf = (clone(best_clf)).fit(X_train_reduced, y_train)\n",
    "\n",
    "# Make new predictions\n",
    "reduced_predictions = clf.predict(X_test_reduced)\n",
    "\n",
    "# Report scores from the final model using both versions of data\n",
    "print(\"Final Model trained on full data\\n------\")\n",
    "print(\"Accuracy on testing data: {:.4f}\".format(accuracy_score(y_test, best_predictions)))\n",
    "print(\"F-score on testing data: {:.4f}\".format(fbeta_score(y_test, best_predictions, beta = 0.5)))\n",
    "print(\"\\nFinal Model trained on reduced data\\n------\")\n",
    "print(\"Accuracy on testing data: {:.4f}\".format(accuracy_score(y_test, reduced_predictions)))\n",
    "print(\"F-score on testing data: {:.4f}\".format(fbeta_score(y_test, reduced_predictions, beta = 0.5)))"
   ]
  },
  {
   "cell_type": "markdown",
   "metadata": {},
   "source": [
    "### Question 8 - Effects of Feature Selection\n",
    "\n",
    "* How does the final model's F-score and accuracy score on the reduced data using only five features compare to those same scores when all features are used?\n",
    "* If training time was a factor, would you consider using the reduced data as your training set?"
   ]
  },
  {
   "cell_type": "markdown",
   "metadata": {},
   "source": [
    "**Answer:**"
   ]
  },
  {
   "cell_type": "markdown",
   "metadata": {},
   "source": [
    "> **Note**: Once you have completed all of the code implementations and successfully answered each question above, you may finalize your work by exporting the iPython Notebook as an HTML document. You can do this by using the menu above and navigating to  \n",
    "**File -> Download as -> HTML (.html)**. Include the finished document along with this notebook as your submission."
   ]
  }
 ],
 "metadata": {
  "kernelspec": {
   "display_name": "Python 3",
   "language": "python",
   "name": "python3"
  },
  "language_info": {
   "codemirror_mode": {
    "name": "ipython",
    "version": 3
   },
   "file_extension": ".py",
   "mimetype": "text/x-python",
   "name": "python",
   "nbconvert_exporter": "python",
   "pygments_lexer": "ipython3",
   "version": "3.6.1"
  }
 },
 "nbformat": 4,
 "nbformat_minor": 1
}
